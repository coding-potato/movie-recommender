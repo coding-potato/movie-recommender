{
 "cells": [
  {
   "cell_type": "markdown",
   "metadata": {},
   "source": [
    "# A Study of Methods for Recommending Movies\n",
    "\n",
    "## Synopsis\n",
    "\n",
    "In this notebook we explore two current methods for generating recommendations on the domain of movies. We provide a prospective business user with a multifacited analysis of the differences between methods and suggest optimal use cases from these results.\n",
    "\n",
    "Keywords: Machine Learning; Collaborative Filtering; Matrix Factorization\n",
    "\n",
    "#### Contributors:\n",
    "- Ikkei (EK) Itoku | UNI: XX | Email: XX@columbia.edu\n",
    "- Jason Kuo | UNI: jk4097 | Email: jk4097@columbia.edu\n",
    "- Sean Xu | UNI: XX | Email: XX@columbia.edu\n"
   ]
  },
  {
   "cell_type": "markdown",
   "metadata": {},
   "source": [
    "## Objectives\n",
    "\n",
    "For this study we aim to provide for every user a set of 5 recommended movies that we predict they will like. This is established in two "
   ]
  },
  {
   "cell_type": "code",
   "execution_count": null,
   "metadata": {},
   "outputs": [],
   "source": [
    "You will build two very simple collaborative filtering models. You may use published packages or\n",
    "methods (e.g. the ALS method in Spark ML) - the goal of this exercise is to gain a practical\n",
    "intuition for how these types of common models work, and to develop methods to test and\n",
    "explore them.\n",
    "Treat this as a case study and think about it from a business perspective. Imagine that you work\n",
    "for a digital media company that needs to recommend movies. What is your objective? What are\n",
    "you trying to optimizing and what are you willing to sacrifice? This framework and these\n",
    "decisions should be clear in your report."
   ]
  },
  {
   "cell_type": "code",
   "execution_count": null,
   "metadata": {},
   "outputs": [],
   "source": []
  },
  {
   "cell_type": "markdown",
   "metadata": {},
   "source": [
    "## Evaluation Metrics\n",
    "\n",
    "To achieve our objective, we used two different evaluation schemes.\n",
    "\n",
    "\n",
    "### Root Mean Squared Error (Primary Benchmark)\n",
    "\n",
    "\n",
    "Any gotchas\n",
    "\n",
    "### Precision of Top-K (Secondary Benchmark)\n",
    "\n",
    "Any gotchas"
   ]
  },
  {
   "cell_type": "markdown",
   "metadata": {},
   "source": [
    "## Methods\n",
    "\n",
    "We looked into collaborative filtering and matrix factorization methods to generate predicted user rating for a given movie. \n",
    "\n",
    "\n",
    "### Collaborative Filtering (Neighborhood-based Method)\n",
    "\n",
    "Memory-based collaborative filtering is an neighborhood method in which all recorded user and items interactions are used to generate a prediction. The method identifies a set of 'neighbors' that historically express similar preferences for a given user using a similarity metric. The prediction is thus made for a given user-item by taking a weighted average of preferences across neighbor users.\n",
    "\n",
    "[image]\n",
    "\n",
    "\n",
    "### Matrix Factorization (Model-based Method)\n",
    "\n",
    "Instead of having to load up the entire database to make a new recommendation for a user, we can employ a representation of the user-item database in a set of two smaller rank matricies across a shared latent vector space. The two matricies can be combined to recover the initial interactions in addition to infering predictions from missing interactions.\n",
    "\n",
    "[image]\n"
   ]
  },
  {
   "cell_type": "markdown",
   "metadata": {},
   "source": [
    "## Experiment Setup\n",
    "\n",
    "\n",
    "### Data Pipeline\n",
    "\n",
    "[flowchart]\n",
    "\n",
    "\n",
    "\n",
    "\n",
    "### Sampling Methodology\n",
    "\n",
    "We start by sampling 100k user-movie pairs to ensure an adequate coverage of users and movies. We remove\n",
    "\n",
    "\n",
    "\n",
    "\n",
    "###"
   ]
  },
  {
   "cell_type": "code",
   "execution_count": null,
   "metadata": {},
   "outputs": [],
   "source": []
  },
  {
   "cell_type": "markdown",
   "metadata": {},
   "source": [
    "## Analysis of Results\n"
   ]
  },
  {
   "cell_type": "markdown",
   "metadata": {},
   "source": [
    "### Evaluating the Methods\n",
    "\n",
    "\n",
    "#### RMSE\n",
    "\n",
    "\n",
    "#### Precision Top-k\n",
    "\n",
    "\n",
    "#### Coverage"
   ]
  },
  {
   "cell_type": "code",
   "execution_count": null,
   "metadata": {},
   "outputs": [],
   "source": [
    "[plot here]"
   ]
  },
  {
   "cell_type": "markdown",
   "metadata": {},
   "source": [
    "### Comparison of Training Data Size (250k, 500k, 1m)\n",
    "\n",
    "#### Accuracy\n",
    "\n",
    "#### Distribution Across Users and Movies\n",
    "\n",
    "#### Runtime\n"
   ]
  },
  {
   "cell_type": "code",
   "execution_count": null,
   "metadata": {},
   "outputs": [],
   "source": [
    "[plot here]"
   ]
  },
  {
   "cell_type": "markdown",
   "metadata": {},
   "source": [
    "### Comparison of Hyper Parameter Tuning\n",
    "\n",
    "\n",
    "#### Neighborhood-Based: Increasing K-Neighbors\n",
    "\n",
    "\n",
    "#### Model-Based: Adjusting Rank and Number of Iterations"
   ]
  },
  {
   "cell_type": "code",
   "execution_count": null,
   "metadata": {},
   "outputs": [],
   "source": [
    "[plot here]"
   ]
  },
  {
   "cell_type": "markdown",
   "metadata": {},
   "source": [
    "### Comparison of Number of Movie Ratings"
   ]
  },
  {
   "cell_type": "code",
   "execution_count": null,
   "metadata": {},
   "outputs": [],
   "source": []
  },
  {
   "cell_type": "markdown",
   "metadata": {},
   "source": [
    "## Implementation Considerations\n",
    "\n",
    "As a business looking to employ one of these methods into real-world use, should consider the following:\n",
    "\n",
    "#### Cold Start\n",
    "\n",
    "In the case the business has no existing user-item recommendation data, the company can ensure a randomized selection of \n",
    "\n",
    "#### New Users\n",
    "\n",
    "With no existing data, it is question on how to provide an appropriate recommendation for new users. We suggest an employing a popularity-based approach (i.e. suggesting the top-k most popular items) as it has been shown to provide a decent performance vs. the methods incorporating user data. The business can continue to approach until the user has accumulated [X] movie interactions at which the predictions can be reliably estimated.\n",
    "\n",
    "#### Online vs. Offline\n",
    "\n",
    "Recommend matrix factorization for online methods as it provides a good enough estimate and scalable in memory.\n",
    "\n",
    "\n",
    "\n"
   ]
  },
  {
   "cell_type": "code",
   "execution_count": 1,
   "metadata": {
    "collapsed": true
   },
   "outputs": [
    {
     "ename": "SyntaxError",
     "evalue": "invalid syntax (<ipython-input-1-7bd09b25f5c6>, line 1)",
     "output_type": "error",
     "traceback": [
      "\u001b[1;36m  File \u001b[1;32m\"<ipython-input-1-7bd09b25f5c6>\"\u001b[1;36m, line \u001b[1;32m1\u001b[0m\n\u001b[1;33m    [plot here]\u001b[0m\n\u001b[1;37m             ^\u001b[0m\n\u001b[1;31mSyntaxError\u001b[0m\u001b[1;31m:\u001b[0m invalid syntax\n"
     ]
    }
   ],
   "source": [
    "[plot here]"
   ]
  },
  {
   "cell_type": "code",
   "execution_count": null,
   "metadata": {},
   "outputs": [],
   "source": []
  },
  {
   "cell_type": "markdown",
   "metadata": {},
   "source": [
    "Eval criteria: Imagine a future employer looking at this repository. They would evaluate your project based\n",
    "on the solution’s accuracy and your technical prowess, but they would also look for coherence\n",
    "and creativity. An employer would look for thoughtfulness and thoroughness; for example, how\n",
    "does the solution scale, were the hyper parameters tuned, will this solution discover novel\n",
    "recommendations, etc. Are the major contributions of your work clear? Did you call out\n",
    "important caveats?\n",
    "\n",
    "\n",
    "Eval Criteria: Treat this as a case study and think about it from a business perspective. Imagine that you work\n",
    "for a digital media company that needs to recommend movies. What is your objective? What are\n",
    "you trying to optimizing and what are you willing to sacrifice? This framework and these\n",
    "decisions should be clear in your report\n",
    "\n",
    "Start developing with a small data set (e.g. < 10,000 users / < 1,000 items). Be very thoughtful\n",
    "about how you sample your data. For example, do you care about choosing popular items or\n",
    "unpopular items? Do you care about how many items a user has rated? If you just sample the\n",
    "raw data in your downloaded file, will you be missing relevant data for samples users or items?"
   ]
  },
  {
   "cell_type": "code",
   "execution_count": null,
   "metadata": {},
   "outputs": [],
   "source": [
    "\n",
    "\n",
    "User rated multiple movies as top, topk precision what to pick?\n"
   ]
  },
  {
   "cell_type": "code",
   "execution_count": null,
   "metadata": {},
   "outputs": [],
   "source": []
  },
  {
   "cell_type": "code",
   "execution_count": null,
   "metadata": {},
   "outputs": [],
   "source": []
  },
  {
   "cell_type": "code",
   "execution_count": null,
   "metadata": {},
   "outputs": [],
   "source": []
  },
  {
   "cell_type": "code",
   "execution_count": null,
   "metadata": {},
   "outputs": [],
   "source": []
  }
 ],
 "metadata": {
  "kernelspec": {
   "display_name": "Python 3",
   "language": "python",
   "name": "python3"
  },
  "language_info": {
   "codemirror_mode": {
    "name": "ipython",
    "version": 3
   },
   "file_extension": ".py",
   "mimetype": "text/x-python",
   "name": "python",
   "nbconvert_exporter": "python",
   "pygments_lexer": "ipython3",
   "version": "3.6.8"
  }
 },
 "nbformat": 4,
 "nbformat_minor": 2
}
