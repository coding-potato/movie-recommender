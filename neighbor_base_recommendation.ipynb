{
 "cells": [
  {
   "cell_type": "code",
   "execution_count": null,
   "metadata": {},
   "outputs": [],
   "source": [
    "%load_ext pycodestyle_magic\n",
    "%flake8_on --max_line_length 120"
   ]
  },
  {
   "cell_type": "code",
   "execution_count": null,
   "metadata": {},
   "outputs": [],
   "source": [
    "import findspark\n",
    "findspark.init()"
   ]
  },
  {
   "cell_type": "code",
   "execution_count": null,
   "metadata": {},
   "outputs": [],
   "source": [
    "from source.neighbor_based_recommender import NeighborBasedRecommender\n",
    "import pandas as pd\n",
    "import pickle"
   ]
  },
  {
   "cell_type": "code",
   "execution_count": null,
   "metadata": {
    "scrolled": true
   },
   "outputs": [],
   "source": [
    "result_dict = []\n",
    "for sample_size in [50, 100, 150]:\n",
    "    recommender = NeighborBasedRecommender(sample_size*1000)\n",
    "    recommender.fit(neighbor_size=20, recalculate=True)\n",
    "    train_runtime = recommender.runtime\n",
    "    rmse_train, _, _ = recommender.RMSE(df='train')\n",
    "    rmse_test, rmse_dist_user, rmse_dist_movie = recommender.RMSE(df='test')\n",
    "    experiment_title = f'NB_{sample_size}_Dist_RMSE_User'\n",
    "    with open(f'data/results/{experiment_title}.pkl', 'wb') as f:\n",
    "        pickle.dump([rmse_dist_user, experiment_title], f)\n",
    "    experiment_title = f'NB_{sample_size}_Dist_RMSE_Movie'\n",
    "    with open(f'data/results/{experiment_title}.pkl', 'wb') as f:\n",
    "        pickle.dump([rmse_dist_movie, experiment_title], f)\n",
    "    top_k_precision_train, _ = recommender.top_k_precision(df='train', k=5)\n",
    "    top_k_precision_test, top_k_user = recommender.top_k_precision(df='test', k=5)\n",
    "    experiment_title = f'NB_{sample_size}_Dist_Precision_Movie'\n",
    "    with open(f'data/results/{experiment_title}.pkl', 'wb') as f:\n",
    "        pickle.dump([top_k_user, experiment_title], f)\n",
    "    hyper_result = []\n",
    "    for neighbor_s in range(1, 31):\n",
    "        recommender.fit(neighbor_size=neighbor_s, recalculate=False)\n",
    "        top_k_precision, _ = recommender.top_k_precision(df='test', k=5)\n",
    "        rmse_test, _, _ = recommender.RMSE(df='test')\n",
    "        hyper_result.append([neighbor_s, rmse_test, top_k_precision])\n",
    "    n_size, n_rmse, n_t_k_precision = zip(*hyper_result)\n",
    "    experiment_title = f'NB_{sample_size}_Hyper_RMSE'\n",
    "    result = [experiment_title, pd.Series(n_size), pd.Series(n_rmse)]\n",
    "    with open(f'data/results/{experiment_title}.pkl', 'wb') as f:\n",
    "        pickle.dump(result, f)\n",
    "    experiment_title = f'NB_{sample_size}_Hyper_Precision'\n",
    "    result = [experiment_title, pd.Series(n_size), pd.Series(n_t_k_precision)]\n",
    "    with open(f'data/results/{experiment_title}.pkl', 'wb') as f:\n",
    "        pickle.dump(result, f)\n",
    "    result_dict.append({'sample_size': sample_size,\n",
    "                        'runtime': train_runtime,\n",
    "                        'rmse_train': rmse_train,\n",
    "                        'rmse_test': rmse_test,\n",
    "                        'top_k_precision_train': top_k_precision_train,\n",
    "                        'top_k_precision_test': top_k_precision_test})"
   ]
  },
  {
   "cell_type": "code",
<<<<<<< HEAD
   "execution_count": null,
   "metadata": {},
   "outputs": [],
   "source": [
    "result = pd.DataFrame(result_dict)\n",
    "result = result[['sample_size', 'runtime', 'rmse_train', 'rmse_test',\n",
    "                 'top_k_precision_train', 'top_k_precision_test']]\n",
    "experiment_title = f'result'\n",
    "with open(f'data/results/{experiment_title}.pkl', 'wb') as f:\n",
    "    pickle.dump(result, f)"
=======
   "execution_count": 48,
   "metadata": {},
   "outputs": [],
   "source": [
    "# result is run on 100k data sample\n",
    "recommender = NeighborBasedRecommender(100000)\n",
    "experiment_title = 'nb_hyperparameter_tuning_for_neighbor_size_rmse'\n",
    "recommender.train(neighbor_size = 5, recalculate = True)\n",
    "hyper_result = []\n",
    "for neighbor_s in range(1, 31):\n",
    "    recommender.train(neighbor_size = neighbor_s, recalculate = False)\n",
    "    rmse, _, _ = recommender.rmse()\n",
    "    hyper_result.append([neighbor_s, rmse])\n",
    "neighbor_size, rmse = zip(*hyper_result)\n",
    "result = [experiment_title, pd.Series(neighbor_size), pd.Series(rmse)]\n",
    "with open('data/results/nb_hyperparameter_tuning_for_neighbor_size_rmse.pkl', 'wb') as f:\n",
    "    pickle.dump(result, f)\n",
    "# best neighbor size is 21"
   ]
  },
  {
   "cell_type": "code",
   "execution_count": 36,
   "metadata": {},
   "outputs": [],
   "source": [
    "# result is run on 100k and neighbor hood size is 21\n",
    "recommender.train(neighbor_size = 21, recalculate = False)\n",
    "rmse, rmse_by_user, rmse_by_movie = recommender.rmse()\n",
    "top_k_precision, top_k_precision_by_user = recommender.top_k_precision(k=5)\n",
    "experiment_title = 'nb_distribution_rmse_user'\n",
    "with open('data/results/nb_distribution_rmse_user.pkl', 'wb') as f:\n",
    "    pickle.dump([rmse_by_user, experiment_title], f)\n",
    "experiment_title = 'nb_distribution_rmse_movie'\n",
    "with open('data/results/nb_distribution_rmse_movie.pkl', 'wb') as f:\n",
    "    pickle.dump([rmse_by_movie, experiment_title], f)\n",
    "experiment_title = 'nb_distribution_topk_user'\n",
    "with open('data/results/nb_distribution_topk_user.pkl', 'wb') as f:\n",
    "    pickle.dump([top_k_precision_by_user, experiment_title], f)"
>>>>>>> 0374d4e2fc9b5a3f130e2d67f88e02277eaf4aa5
   ]
  }
 ],
 "metadata": {
  "kernelspec": {
   "display_name": "Python 3",
   "language": "python",
   "name": "python3"
  },
  "language_info": {
   "codemirror_mode": {
    "name": "ipython",
    "version": 3
   },
   "file_extension": ".py",
   "mimetype": "text/x-python",
   "name": "python",
   "nbconvert_exporter": "python",
   "pygments_lexer": "ipython3",
   "version": "3.6.8"
  }
 },
 "nbformat": 4,
 "nbformat_minor": 2
}
