{
 "cells": [
  {
   "cell_type": "code",
   "execution_count": 1,
   "metadata": {},
   "outputs": [],
   "source": [
    "%load_ext pycodestyle_magic\n",
    "%flake8_on --max_line_length 120"
   ]
  },
  {
   "cell_type": "code",
   "execution_count": 2,
   "metadata": {},
   "outputs": [],
   "source": [
    "import findspark\n",
    "findspark.init()"
   ]
  },
  {
   "cell_type": "code",
   "execution_count": 3,
   "metadata": {},
   "outputs": [],
   "source": [
    "import pickle\n",
    "import timeit\n",
    "import numpy as np"
   ]
  },
  {
   "cell_type": "code",
   "execution_count": 4,
   "metadata": {},
   "outputs": [],
   "source": [
    "from source.als_recommender import AlternatingLeastSquares\n",
    "from source import utils"
   ]
  },
  {
   "cell_type": "code",
   "execution_count": 5,
   "metadata": {},
   "outputs": [],
   "source": [
    "spark = utils.create_spark_session()"
   ]
  },
  {
   "cell_type": "code",
   "execution_count": 6,
   "metadata": {},
   "outputs": [],
   "source": [
    "k = 5\n",
    "als = AlternatingLeastSquares()"
   ]
  },
  {
   "cell_type": "code",
   "execution_count": 12,
   "metadata": {},
   "outputs": [
    {
     "name": "stdout",
     "output_type": "stream",
     "text": [
      "Running 50000...\n",
      "\t13.56 min\n",
      "Running 100000...\n",
      "\t13.17 min\n",
      "Running 150000...\n",
      "\t13.73 min\n"
     ]
    },
    {
     "name": "stderr",
     "output_type": "stream",
     "text": [
      "5:1: W293 blank line contains whitespace\n",
      "7:1: W293 blank line contains whitespace\n",
      "19:1: W293 blank line contains whitespace\n",
      "44:1: W293 blank line contains whitespace\n",
      "48:1: W293 blank line contains whitespace\n",
      "50:70: W291 trailing whitespace\n",
      "51:89: E231 missing whitespace after ','\n"
     ]
    }
   ],
   "source": [
    "results = []\n",
    "\n",
    "for i in [50000, 100000, 150000]:\n",
    "    print(f'Running {i}...')\n",
    "    \n",
    "    train, test = utils.prepare_data(spark, i)\n",
    "    \n",
    "    start = timeit.default_timer()\n",
    "    als.grid_search(train, rank=[10], max_iter=[5],\n",
    "                    reg_param=np.linspace(0.05, 0.3, 10), num_folds=2,\n",
    "                    metric='rmse', parallelism=2)\n",
    "    stop = timeit.default_timer()\n",
    "    runtime = stop - start\n",
    "    print(f'\\t{runtime/60 :.2f} min')\n",
    "\n",
    "    pred_ratings, pred_rankings = als.predict(test)\n",
    "    test_rmse = als.rmse()\n",
    "    test_precision = als.precision_at_k(k)\n",
    "    \n",
    "    pd_pred_ratings = pred_ratings.toPandas()\n",
    "    pd_pred_rankings = pred_rankings.toPandas()\n",
    "\n",
    "    rmse_by_user = utils.rmse_distribution(pd_pred_ratings, 'userId')\n",
    "    rmse_by_movie = utils.rmse_distribution(pd_pred_ratings, 'movieId')\n",
    "\n",
    "    top_k_precision_by_user = utils.top_k_precision_distribution(pd_pred_rankings, k)\n",
    "\n",
    "    with open(f'data/results/als_{i}_distribution_rmse_user.pkl', 'wb') as f:\n",
    "        pickle.dump([rmse_by_user, 'als_distribution_rmse_user'], f)\n",
    "\n",
    "    with open(f'data/results/als_{i}_distribution_rmse_movie.pkl', 'wb') as f:\n",
    "        pickle.dump([rmse_by_movie, 'als_distribution_rmse_movie'], f)\n",
    "\n",
    "    with open(f'data/results/als_{i}_distribution_topk_user.pkl', 'wb') as f:\n",
    "        pickle.dump([top_k_precision_by_user, 'als_distribution_topk_user'], f)\n",
    "\n",
    "    experiment_title = 'als_{i}_hyperparameter_tuning_for_reg_param_rmse'\n",
    "    reg_params = [r['regParam'] for r in als.results]\n",
    "    rmses = [r['rmse'] for r in als.results]\n",
    "\n",
    "    result = [experiment_title, pd.Series(reg_params), pd.Series(rmses)]\n",
    "    with open(f'data/results/als_{i}_hyperparameter_tuning_for_reg_param_rmse_.pkl', 'wb') as f:\n",
    "        pickle.dump(result, f)\n",
    "    \n",
    "    als.predict(train)\n",
    "    train_rmse = als.rmse()\n",
    "    train_precision = als.precision_at_k(k)\n",
    "    \n",
    "    results.append({'sample_size': i, 'runtime': runtime,\n",
    "                    'train_rmse': train_rmse, 'test_rmse': test_rmse, \n",
    "                    'train_precision': train_precision, 'test_precision': test_precision,})"
   ]
  },
  {
   "cell_type": "code",
   "execution_count": 13,
   "metadata": {},
   "outputs": [
    {
     "data": {
      "text/html": [
       "<div>\n",
       "<style scoped>\n",
       "    .dataframe tbody tr th:only-of-type {\n",
       "        vertical-align: middle;\n",
       "    }\n",
       "\n",
       "    .dataframe tbody tr th {\n",
       "        vertical-align: top;\n",
       "    }\n",
       "\n",
       "    .dataframe thead th {\n",
       "        text-align: right;\n",
       "    }\n",
       "</style>\n",
       "<table border=\"1\" class=\"dataframe\">\n",
       "  <thead>\n",
       "    <tr style=\"text-align: right;\">\n",
       "      <th></th>\n",
       "      <th>sample_size</th>\n",
       "      <th>runtime</th>\n",
       "      <th>train_rmse</th>\n",
       "      <th>test_rmse</th>\n",
       "      <th>train_precision</th>\n",
       "      <th>test_precision</th>\n",
       "    </tr>\n",
       "  </thead>\n",
       "  <tbody>\n",
       "    <tr>\n",
       "      <td>0</td>\n",
       "      <td>50000</td>\n",
       "      <td>813.707301</td>\n",
       "      <td>0.774072</td>\n",
       "      <td>0.963989</td>\n",
       "      <td>1.0</td>\n",
       "      <td>0.956216</td>\n",
       "    </tr>\n",
       "    <tr>\n",
       "      <td>1</td>\n",
       "      <td>100000</td>\n",
       "      <td>790.146779</td>\n",
       "      <td>0.759134</td>\n",
       "      <td>0.916718</td>\n",
       "      <td>1.0</td>\n",
       "      <td>0.956633</td>\n",
       "    </tr>\n",
       "    <tr>\n",
       "      <td>2</td>\n",
       "      <td>150000</td>\n",
       "      <td>824.023821</td>\n",
       "      <td>0.784345</td>\n",
       "      <td>0.912994</td>\n",
       "      <td>1.0</td>\n",
       "      <td>0.961128</td>\n",
       "    </tr>\n",
       "  </tbody>\n",
       "</table>\n",
       "</div>"
      ],
      "text/plain": [
       "   sample_size     runtime  train_rmse  test_rmse  train_precision  \\\n",
       "0        50000  813.707301    0.774072   0.963989              1.0   \n",
       "1       100000  790.146779    0.759134   0.916718              1.0   \n",
       "2       150000  824.023821    0.784345   0.912994              1.0   \n",
       "\n",
       "   test_precision  \n",
       "0        0.956216  \n",
       "1        0.956633  \n",
       "2        0.961128  "
      ]
     },
     "execution_count": 13,
     "metadata": {},
     "output_type": "execute_result"
    }
   ],
   "source": [
    "pd.DataFrame(results)"
   ]
  },
  {
   "cell_type": "code",
   "execution_count": null,
   "metadata": {},
   "outputs": [],
   "source": []
  }
 ],
 "metadata": {
  "kernelspec": {
   "display_name": "Python 3",
   "language": "python",
   "name": "python3"
  },
  "language_info": {
   "codemirror_mode": {
    "name": "ipython",
    "version": 3
   },
   "file_extension": ".py",
   "mimetype": "text/x-python",
   "name": "python",
   "nbconvert_exporter": "python",
   "pygments_lexer": "ipython3",
   "version": "3.7.4"
  }
 },
 "nbformat": 4,
 "nbformat_minor": 2
}
