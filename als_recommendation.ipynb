{
 "cells": [
  {
   "cell_type": "code",
   "execution_count": 1,
   "metadata": {},
   "outputs": [],
   "source": [
    "%load_ext pycodestyle_magic\n",
    "%flake8_on --max_line_length 120"
   ]
  },
  {
   "cell_type": "code",
   "execution_count": 2,
   "metadata": {},
   "outputs": [],
   "source": [
    "import findspark\n",
    "findspark.init()"
   ]
  },
  {
   "cell_type": "code",
   "execution_count": 16,
   "metadata": {},
   "outputs": [],
   "source": [
    "import pickle\n",
    "import numpy as np"
   ]
  },
  {
   "cell_type": "code",
   "execution_count": 6,
   "metadata": {},
   "outputs": [],
   "source": [
    "from source.als_recommender import AlternatingLeastSquares\n",
    "from source import utils"
   ]
  },
  {
   "cell_type": "code",
   "execution_count": 7,
   "metadata": {},
   "outputs": [],
   "source": [
    "spark = utils.create_spark_session()\n",
    "train, test = utils.prepare_data(spark, 100000)"
   ]
  },
  {
   "cell_type": "code",
   "execution_count": 8,
   "metadata": {},
   "outputs": [],
   "source": [
    "k = 5\n",
    "als = AlternatingLeastSquares()"
   ]
  },
  {
   "cell_type": "code",
   "execution_count": 11,
   "metadata": {},
   "outputs": [
    {
     "name": "stderr",
     "output_type": "stream",
     "text": [
      "4:47: W291 trailing whitespace\n",
      "5:46: W291 trailing whitespace\n"
     ]
    }
   ],
   "source": [
    "# als.grid_search(train, rank=[10, 20], max_iter=[10],\n",
    "#                 reg_param=np.linspace(0.05, 0.3, 10), num_folds=2, metric='rmse')\n",
    "\n",
    "als.grid_search(train, rank=[2], max_iter=[2],\n",
    "                reg_param=np.linspace(0.05, 0.3, 2), num_folds=2,\n",
    "                metric='rmse', parallelism=2)"
   ]
  },
  {
   "cell_type": "code",
   "execution_count": 12,
   "metadata": {},
   "outputs": [],
   "source": [
    "pred_ratings, pred_rankings = als.predict(test)\n",
    "\n",
    "pd_pred_ratings = pred_ratings.toPandas()\n",
    "pd_pred_rankings = pred_rankings.toPandas()\n",
    "\n",
    "rmse_by_user = utils.rmse_distribution(pd_pred_ratings, 'userId')\n",
    "rmse_by_movie = utils.rmse_distribution(pd_pred_ratings, 'movieId')\n",
    "\n",
    "top_k_precision_by_user = utils.top_k_precision_distribution(pd_pred_rankings, k)\n",
    "\n",
    "with open('data/results/als_distribution_rmse_user.pkl', 'wb') as f:\n",
    "    pickle.dump([rmse_by_user, 'als_distribution_rmse_user'], f)\n",
    "\n",
    "with open('data/results/als_distribution_rmse_movie.pkl', 'wb') as f:\n",
    "    pickle.dump([rmse_by_movie, 'als_distribution_rmse_movie'], f)\n",
    "\n",
    "with open('data/results/als_distribution_topk_user.pkl', 'wb') as f:\n",
    "    pickle.dump([top_k_precision_by_user, 'als_distribution_topk_user'], f)"
   ]
  },
  {
   "cell_type": "code",
   "execution_count": 26,
   "metadata": {},
   "outputs": [],
   "source": [
    "experiment_title = 'als_hyperparameter_tuning_for_reg_param_rmse'\n",
    "reg_params = [r['regParam'] for r in als.results]\n",
    "rmses = [r['rmse'] for r in als.results]\n",
    "\n",
    "result = [experiment_title, pd.Series(reg_params), pd.Series(rmses)]\n",
    "with open('data/results/als_hyperparameter_tuning_for_reg_param_rmse.pkl', 'wb') as f:\n",
    "    pickle.dump(result, f)"
   ]
  },
  {
   "cell_type": "code",
   "execution_count": null,
   "metadata": {},
   "outputs": [],
   "source": [
    "als.rmse()"
   ]
  },
  {
   "cell_type": "code",
   "execution_count": null,
   "metadata": {},
   "outputs": [],
   "source": [
    "als.precision_at_k(k)"
   ]
  },
  {
   "cell_type": "code",
   "execution_count": null,
   "metadata": {},
   "outputs": [],
   "source": []
  }
 ],
 "metadata": {
  "kernelspec": {
   "display_name": "Python 3",
   "language": "python",
   "name": "python3"
  },
  "language_info": {
   "codemirror_mode": {
    "name": "ipython",
    "version": 3
   },
   "file_extension": ".py",
   "mimetype": "text/x-python",
   "name": "python",
   "nbconvert_exporter": "python",
   "pygments_lexer": "ipython3",
   "version": "3.7.4"
  }
 },
 "nbformat": 4,
 "nbformat_minor": 2
}
