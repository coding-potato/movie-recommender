{
 "cells": [
  {
   "cell_type": "code",
   "execution_count": 1,
   "metadata": {},
   "outputs": [],
   "source": [
    "%load_ext pycodestyle_magic\n",
    "%flake8_on --max_line_length 120"
   ]
  },
  {
   "cell_type": "code",
   "execution_count": 2,
   "metadata": {},
   "outputs": [],
   "source": [
    "import findspark\n",
    "findspark.init()"
   ]
  },
  {
   "cell_type": "code",
   "execution_count": 3,
   "metadata": {},
   "outputs": [],
   "source": [
    "from pyspark.sql import SparkSession\n",
    "from pyspark.sql.functions import col, count, substring"
   ]
  },
  {
   "cell_type": "code",
   "execution_count": 4,
   "metadata": {},
   "outputs": [],
   "source": [
    "spark = (SparkSession\n",
    "         .builder\n",
    "         .master('local')\n",
    "         .appName('Movie Recommendations')\n",
    "         .config('spark.executor.memory', '8g')\n",
    "         .config('spark.driver.memory', '8g')\n",
    "         .getOrCreate())"
   ]
  },
  {
   "cell_type": "code",
   "execution_count": 5,
   "metadata": {},
   "outputs": [],
   "source": [
    "movies = spark.read.load('data/ml-20m/movies.csv', format='csv', sep=',', inferSchema='true', header='true')\n",
    "ratings = spark.read.load('data/ml-20m/ratings.csv', format='csv', sep=',', inferSchema='true', header='true')"
   ]
  },
  {
   "cell_type": "markdown",
   "metadata": {},
   "source": [
    "# Data prep"
   ]
  },
  {
   "cell_type": "code",
   "execution_count": 6,
   "metadata": {},
   "outputs": [],
   "source": [
    "# take subset of database (can't do ordering here as it is really slow over a distributed database)\n",
    "ratings_500k = ratings.limit(500000)\n",
    "\n",
    "# remove movies and users 1 rating\n",
    "user_filter = (ratings_500k.groupBy('userId')\n",
    "                           .agg(count('userId').alias('count'))\n",
    "                           .filter(col('count') == 1)\n",
    "                           .select('userId'))\n",
    "movie_filter = (ratings_500k.groupBy('movieId')\n",
    "                            .agg(count('movieId').alias('count'))\n",
    "                            .filter(col('count') == 1)\n",
    "                            .select('movieId'))\n",
    "ratings_500k = ratings_500k.join(user_filter, ['userId'], how='left_anti')\n",
    "ratings_500k = ratings_500k.join(movie_filter, ['movieId'], how='left_anti')\n",
    "\n",
    "# movies with valid genre\n",
    "movies_genre = movies.filter(col('genres') != '(no genres listed)')\n",
    "movies_genre = movies_genre.withColumn('year', substring(col('title'), -5, 4))  # extract year\n",
    "genre_filter = movies_genre.select('movieId')\n",
    "\n",
    "# keep only movies with genre\n",
    "ratings_500k = ratings_500k.join(genre_filter, ['movieId'], how='left_semi')"
   ]
  },
  {
   "cell_type": "markdown",
   "metadata": {},
   "source": [
    "# Test train split"
   ]
  },
  {
   "cell_type": "code",
   "execution_count": 7,
   "metadata": {},
   "outputs": [],
   "source": [
    "# test train split 20% balance\n",
    "train, test = ratings_500k.randomSplit([0.8, 0.2], seed=12345)\n",
    "\n",
    "# take union set of users, movies in both data pieces\n",
    "train = train.join(test.select('userId'), ['userId'], how='left_semi')\n",
    "train = train.join(test.select('movieId'), ['movieId'], how='left_semi')\n",
    "\n",
    "test = test.join(train.select('userId'), ['userId'], how='left_semi')\n",
    "test = test.join(train.select('movieId'), ['movieId'], how='left_semi')"
   ]
  },
  {
   "cell_type": "markdown",
   "metadata": {},
   "source": [
    "# Write data"
   ]
  },
  {
   "cell_type": "code",
   "execution_count": 8,
   "metadata": {},
   "outputs": [],
   "source": [
    "train.write.parquet('data/sample_data_train.parquet', mode='overwrite')\n",
    "test.write.parquet('data/sample_data_test.parquet', mode='overwrite')\n",
    "movies_genre.write.parquet('data/movie_genre.parquet', mode='overwrite')"
   ]
  }
 ],
 "metadata": {
  "kernelspec": {
   "display_name": "Python 3",
   "language": "python",
   "name": "python3"
  },
  "language_info": {
   "codemirror_mode": {
    "name": "ipython",
    "version": 3
   },
   "file_extension": ".py",
   "mimetype": "text/x-python",
   "name": "python",
   "nbconvert_exporter": "python",
   "pygments_lexer": "ipython3",
   "version": "3.7.4"
  }
 },
 "nbformat": 4,
 "nbformat_minor": 2
}
