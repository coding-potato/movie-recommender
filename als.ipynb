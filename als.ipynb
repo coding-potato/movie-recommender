{
 "cells": [
  {
   "cell_type": "code",
   "execution_count": 1,
   "metadata": {},
   "outputs": [],
   "source": [
    "%load_ext pycodestyle_magic\n",
    "%flake8_on --max_line_length 120\n",
    "\n",
    "import findspark\n",
    "findspark.init()\n",
    "\n",
    "import matplotlib.pyplot as plt\n",
    "import numpy as np\n",
    "import pandas as pd\n",
    "from pyspark import SparkContext\n",
    "from pyspark.ml.evaluation import RegressionEvaluator\n",
    "from pyspark.ml.recommendation import ALS\n",
    "from pyspark.ml.tuning import CrossValidator, ParamGridBuilder\n",
    "from pyspark.mllib.evaluation import RegressionMetrics, RankingMetrics\n",
    "from pyspark.sql import SparkSession\n",
    "from pyspark.sql.functions import expr"
   ]
  },
  {
   "cell_type": "code",
   "execution_count": 2,
   "metadata": {},
   "outputs": [],
   "source": [
    "spark = (SparkSession\n",
    "         .builder\n",
    "         .master('local')\n",
    "         .appName('Movie Recommendations')\n",
    "         .config('spark.executor.memory', '8g')\n",
    "         .config('spark.driver.memory', '8g')\n",
    "         .getOrCreate())"
   ]
  },
  {
   "cell_type": "code",
   "execution_count": 3,
   "metadata": {},
   "outputs": [],
   "source": [
    "train = spark.read.parquet('data/sample_data_train.parquet')\n",
    "test = spark.read.parquet('data/sample_data_test.parquet')\n",
    "movies = spark.read.parquet('data/movie_genre.parquet')"
   ]
  },
  {
   "cell_type": "markdown",
   "metadata": {},
   "source": [
    "# Baseline model\n",
    "\n",
    "Recommend the most popular movies to everyone\n",
    "\n",
    "#### 1) RMSE\n",
    "Fill predicted rating matrix with average rating"
   ]
  },
  {
   "cell_type": "code",
   "execution_count": 4,
   "metadata": {
    "scrolled": true
   },
   "outputs": [
    {
     "data": {
      "text/plain": [
       "0.9560195216413405"
      ]
     },
     "execution_count": 4,
     "metadata": {},
     "output_type": "execute_result"
    }
   ],
   "source": [
    "top_movies = (train.groupBy('movieId')\n",
    "                   .agg({'rating': 'avg', 'userId': 'count'})\n",
    "                   .withColumnRenamed('movieId', 'predMovieId')\n",
    "                   .withColumnRenamed('avg(rating)', 'avgRating')\n",
    "                   .withColumnRenamed('count(userId)', 'reviewCount')\n",
    "                   .orderBy(['reviewCount', 'avgRating'], ascending=[False, False]))\n",
    "\n",
    "pred_ratings = (test.join(top_movies, test['movieId'] == top_movies['predMovieId'], how='left')\n",
    "                    .select(['movieId', 'userId', 'rating', 'avgRating', 'reviewCount']))\n",
    "\n",
    "rmse = RegressionMetrics(pred_ratings.rdd.map(lambda tup: (tup[2], tup[3])))\n",
    "rmse.rootMeanSquaredError"
   ]
  },
  {
   "cell_type": "markdown",
   "metadata": {},
   "source": [
    "#### 2) Precision at 5\n",
    "Always recommend the five most popular movies to everyone"
   ]
  },
  {
   "cell_type": "code",
   "execution_count": 5,
   "metadata": {},
   "outputs": [
    {
     "data": {
      "text/plain": [
       "0.03625037080984873"
      ]
     },
     "execution_count": 5,
     "metadata": {},
     "output_type": "execute_result"
    }
   ],
   "source": [
    "user_rankings = (test.orderBy(['rating', 'movieId'], ascending=[False, False])\n",
    "                     .groupBy('userId')\n",
    "                     .agg(expr('collect_list(movieId) as topMovies')))\n",
    "\n",
    "top_5_movies = top_movies.limit(5).agg(expr('collect_list(predMovieId) as topMovies')).first()\n",
    "top_5_movies = top_5_movies.asDict()['topMovies']\n",
    "\n",
    "pred_rankings = user_rankings.rdd.map(lambda tup: (tup[1], top_5_movies[:len(tup[1])+1]))\n",
    "\n",
    "metrics = RankingMetrics(pred_rankings)\n",
    "metrics.precisionAt(5)"
   ]
  },
  {
   "cell_type": "markdown",
   "metadata": {},
   "source": [
    "# ALS - before hyperparameter tuning\n",
    "1. RMSE"
   ]
  },
  {
   "cell_type": "code",
   "execution_count": 6,
   "metadata": {},
   "outputs": [
    {
     "name": "stdout",
     "output_type": "stream",
     "text": [
      "RMSE with test data, before hyperparameter tuning = 0.8516456122115525\n"
     ]
    }
   ],
   "source": [
    "als = ALS(rank=5, maxIter=5, userCol='userId', itemCol='movieId', ratingCol='rating', coldStartStrategy='drop')\n",
    "model = als.fit(train)\n",
    "\n",
    "metric = 'rmse'\n",
    "predictions = model.transform(test)\n",
    "evaluator = RegressionEvaluator(metricName=metric, labelCol='rating', predictionCol='prediction')\n",
    "rmse = evaluator.evaluate(predictions)\n",
    "print(f'RMSE with test data, before hyperparameter tuning = {rmse}')"
   ]
  },
  {
   "cell_type": "markdown",
   "metadata": {},
   "source": [
    "# ALS - after hyperparameter tuning\n",
    "1. RMSE\n",
    "2. RankingMetrics"
   ]
  },
  {
   "cell_type": "code",
   "execution_count": null,
   "metadata": {
    "scrolled": true
   },
   "outputs": [],
   "source": [
    "als = ALS(userCol='userId', itemCol='movieId', ratingCol='rating',\n",
    "          coldStartStrategy='drop', checkpointInterval=5)\n",
    "\n",
    "param_grid = (ParamGridBuilder()\n",
    "              .addGrid(als.rank, [10, 20])\n",
    "              .addGrid(als.maxIter, [20])\n",
    "              .addGrid(als.regParam, np.linspace(0.05, 0.3, 10))\n",
    "              .build())\n",
    "\n",
    "cross_val = CrossValidator(estimator=als,\n",
    "                           estimatorParamMaps=param_grid,\n",
    "                           evaluator=evaluator,\n",
    "                           numFolds=2,\n",
    "                           collectSubModels=True)\n",
    "\n",
    "model = cross_val.fit(train)"
   ]
  },
  {
   "cell_type": "code",
   "execution_count": null,
   "metadata": {},
   "outputs": [],
   "source": [
    "results = []\n",
    "for avg_metric, param_maps in zip(model.avgMetrics, model.getEstimatorParamMaps()):\n",
    "    params = {p.name: round(v, 2) for p, v in param_maps.items()}\n",
    "    result = {metric: round(avg_metric, 4), **params}\n",
    "    results.append(result)\n",
    "    print(result)\n",
    "\n",
    "x_axis = 'regParam'\n",
    "fig, ax = plt.subplots(figsize=(6, 6))\n",
    "\n",
    "df = pd.DataFrame(results)\n",
    "gp_cols = df.columns[~df.columns.str.contains(metric) & (df.columns != x_axis)].tolist()\n",
    "for _, subset in df.groupby(gp_cols):\n",
    "    label = str(subset[gp_cols].iloc[0].to_dict())\n",
    "    (subset.plot(kind='line', x=x_axis, y=metric, label=label, ax=ax)\n",
    "           .set(xlabel=x_axis, ylabel=metric))\n",
    "\n",
    "ax.legend(loc='center left', bbox_to_anchor=(1, 0.5))"
   ]
  },
  {
   "cell_type": "markdown",
   "metadata": {},
   "source": [
    "#### 1. RMSE"
   ]
  },
  {
   "cell_type": "code",
   "execution_count": null,
   "metadata": {},
   "outputs": [],
   "source": [
    "predictions = model.transform(test)\n",
    "rmse = evaluator.evaluate(predictions)\n",
    "print(f'RMSE with test data, after hyperparameter tuning = {rmse}')"
   ]
  },
  {
   "cell_type": "markdown",
   "metadata": {},
   "source": [
    "#### 2. RankingMetrics"
   ]
  },
  {
   "cell_type": "code",
   "execution_count": null,
   "metadata": {},
   "outputs": [],
   "source": [
    "predictions = model.transform(test)\n",
    "user_recs = (predictions.orderBy(['rating', 'movieId'], ascending=[False, False])\n",
    "                        .groupBy('userId')\n",
    "                        .agg(expr('collect_list(movieId) as predMovies')))\n",
    "'''\n",
    "In case there are multiple movies that are tie, pick newer movies\n",
    "\n",
    "predictions.orderBy(['rating', 'movieId'], ascending=[False, False]).show()\n",
    "+-------+------+------+----------+\n",
    "|movieId|userId|rating| timestamp|\n",
    "+-------+------+------+----------+\n",
    "|  31696|     1|   4.0|1112485748|\n",
    "|   7438|     1|   4.0|1112484789|\n",
    "|   7389|     1|   4.0|1112486045|\n",
    "|   7046|     1|   4.0|1112485934|\n",
    "|   4467|     1|   4.0|1112485822|\n",
    "\n",
    "user_recs.limit(10).show()\n",
    "+------+--------------------+\n",
    "|userId|          top_movies|\n",
    "+------+--------------------+\n",
    "|     1|[31696, 7438, 738...|\n",
    "+------+--------------------+\n",
    "'''\n",
    "\n",
    "ground_truth = (test.orderBy(['rating', 'movieId'], ascending=[False, False])\n",
    "                    .groupBy('userId')\n",
    "                    .agg(expr('collect_list(movieId) as topMovies')))\n",
    "'''\n",
    "ground_truth.show()\n",
    "+------+--------------------+\n",
    "|userId|          top_movies|\n",
    "+------+--------------------+\n",
    "|     2| [242, 469, 70, 260]|\n",
    "|     3|           [32, 316]|\n",
    "|     4|[19, 420, 356, 37...|\n",
    "'''\n",
    "\n",
    "pred_labels = (user_recs.join(ground_truth, user_recs['userId'] == ground_truth['userId'])\n",
    "                        .rdd.map(lambda tup: (tup[1], tup[3])))\n",
    "\n",
    "'''\n",
    "user_recs.join(ground_truth, user_recs['userId'] == ground_truth['userId']).show()\n",
    "+------+--------------------+------+--------------------+\n",
    "|userId|         pred_movies|userId|          top_movies|\n",
    "+------+--------------------+------+--------------------+\n",
    "|   148|[469, 182, 543, 2...|   148|[25, 182, 543, 74...|\n",
    "|   463|[434, 186, 158, 2...|   463|[186, 329, 158, 2...|\n",
    "|   471|[419, 434, 333, 3...|   471|[434, 266, 333, 3...|\n",
    "|   496|[339, 352, 514, 3...|   496|[339, 352, 514, 2...|\n",
    "|   833|[380, 316, 161, 3...|   833|[161, 316, 318, 3...|\n",
    "|  1088|           [12, 140]|  1088|           [12, 140]|\n",
    "|  1238|[427, 350, 260, 541]|  1238|[427, 541, 260, 350]|\n",
    "|  1342|               [168]|  1342|               [168]|\n",
    "|  1580|           [296, 50]|  1580|           [296, 50]|\n",
    "|  1591|                [32]|  1591|                [32]|\n",
    "+------+--------------------+------+--------------------+\n",
    "'''\n",
    "\n",
    "metrics = RankingMetrics(pred_labels)\n",
    "metrics.precisionAt(5)"
   ]
  },
  {
   "cell_type": "code",
   "execution_count": null,
   "metadata": {},
   "outputs": [],
   "source": [
    "user_recs = model.bestModel.recommendForAllUsers(10)\n",
    "a = user_recs.toPandas()\n",
    "a[a.userId == 1].recommendations.tolist()"
   ]
  },
  {
   "cell_type": "code",
   "execution_count": null,
   "metadata": {},
   "outputs": [],
   "source": []
  }
 ],
 "metadata": {
  "kernelspec": {
   "display_name": "Python 3",
   "language": "python",
   "name": "python3"
  },
  "language_info": {
   "codemirror_mode": {
    "name": "ipython",
    "version": 3
   },
   "file_extension": ".py",
   "mimetype": "text/x-python",
   "name": "python",
   "nbconvert_exporter": "python",
   "pygments_lexer": "ipython3",
   "version": "3.7.4"
  }
 },
 "nbformat": 4,
 "nbformat_minor": 2
}
